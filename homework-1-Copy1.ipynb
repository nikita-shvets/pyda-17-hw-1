{
 "cells": [
  {
   "cell_type": "code",
   "execution_count": 9,
   "metadata": {},
   "outputs": [
    {
     "name": "stdout",
     "output_type": "stream",
     "text": [
      "введите первую фразу1\n",
      "введите вторую фразу1\n",
      "фразы равной длины\n"
     ]
    }
   ],
   "source": [
    "# первое задание\n",
    "a = str(input('Введите первую фразу'))\n",
    "b = str(input('Введите вторую фразу'))\n",
    "if len(a) > len(b):\n",
    "   print('Фраза 1 длинее фразы 2')\n",
    "elif len(a) < len(b):\n",
    "   print('Фраза 2 длинее фразы 1')\n",
    "else:\n",
    "   print('Фразы равной длины') "
   ]
  },
  {
   "cell_type": "code",
   "execution_count": 15,
   "metadata": {},
   "outputs": [
    {
     "name": "stdout",
     "output_type": "stream",
     "text": [
      "введите год4\n",
      "високосный год\n"
     ]
    }
   ],
   "source": [
    "# второе задание\n",
    "a = int(input('Введите год'))\n",
    "if a%4 == 0:\n",
    "    print('Високосный год')\n",
    "else:\n",
    "    print('Обычный год')"
   ]
  },
  {
   "cell_type": "code",
   "execution_count": 30,
   "metadata": {},
   "outputs": [
    {
     "name": "stdout",
     "output_type": "stream",
     "text": [
      "Введите день1\n",
      "Введите месяцМарт\n",
      "Рыбы\n"
     ]
    }
   ],
   "source": [
    "# третье задание(за что?)\n",
    "a = int(input('Введите день'))\n",
    "b = str(input('Введите месяц'))\n",
    "if (b == 'Март' and a >= 21) or (b == 'Апрель' and a <= 20):\n",
    "    print('Овен')\n",
    "elif (b == 'Апрель' and a >= 21) or (b == 'Май' and a <= 21):\n",
    "    print('Телец')\n",
    "elif (b == 'Май' and a >= 22) or (b == 'Июнь' and a <= 21):\n",
    "    print('Близнецы')\n",
    "elif (b == 'Июнь' and a >= 22) or (b == 'Июль' and a <= 22):\n",
    "    print('Рак')\n",
    "elif (b == 'Июль' and a >= 23) or (b == 'Август' and a <= 22):\n",
    "    print('Лев')\n",
    "elif (b == 'Август' and a >= 23) or (b == 'Сентябрь' and a <= 22):\n",
    "    print('Дева')\n",
    "elif (b == 'Сентябрь' and a >= 23) or (b == 'Октябрь' and a <= 22):\n",
    "    print('Весы')\n",
    "elif (b == 'Октябрь' and a >= 23) or (b == 'Ноябрь' and a <= 22):\n",
    "    print('Скорпион')\n",
    "elif (b == 'Ноябрь' and a >= 23) or (b == 'Декабрь' and a <= 21):\n",
    "    print('Стрелец')\n",
    "elif (b == 'Декабрь' and a >= 22) or (b == 'Январь' and a <= 20):\n",
    "    print('Козерог')\n",
    "elif (b == 'Январь' and a >= 21) or (b == 'Февраль' and a <= 19):\n",
    "    print('Водолей')\n",
    "elif (b == 'Февраль' and a >= 20) or (b == 'Март' and a <= 20):\n",
    "    print('Рыбы')\n",
    "else:\n",
    "    print('Не надо ломать программу, такого месяца нет)), перввя буква месяца должна быть заглавной')"
   ]
  },
  {
   "cell_type": "code",
   "execution_count": 36,
   "metadata": {},
   "outputs": [
    {
     "name": "stdout",
     "output_type": "stream",
     "text": [
      "Упаковка для лыж\n"
     ]
    }
   ],
   "source": [
    "# 4 задание\n",
    "width = 10\n",
    "length = 205\n",
    "height = 5\n",
    "if width < 15 and length < 15 and height < 15:\n",
    "    print('Коробка №1')\n",
    "elif (15 < width < 50) or (15 < length < 50) or (15 < height < 50):\n",
    "    print('Коробка №2')\n",
    "elif (length > 200):\n",
    "    print('Упаковка для лыж')\n",
    "else:\n",
    "    print('Стандартная коробка №3')"
   ]
  },
  {
   "cell_type": "code",
   "execution_count": 45,
   "metadata": {},
   "outputs": [
    {
     "name": "stdout",
     "output_type": "stream",
     "text": [
      "Введите номер билета123321\n",
      "Счастливый билет\n"
     ]
    }
   ],
   "source": [
    "# 5 задание\n",
    "a = str(input('Введите номер билета'))\n",
    "if a[0] == a[5] and a[1] == a[4] and a[2] == a[3]:\n",
    "    print('Счастливый билет')\n",
    "else:\n",
    "    print('Не(а???)счатливый билет')"
   ]
  },
  {
   "cell_type": "code",
   "execution_count": 90,
   "metadata": {},
   "outputs": [
    {
     "name": "stdout",
     "output_type": "stream",
     "text": [
      "Введите тип фигурыТреугольник\n",
      "Введите длину стороны А2\n",
      "Введите длину стороны B2\n",
      "Введите длину стороны C2\n",
      "Площадь треугольника:\n",
      "1.7320508075688772\n"
     ]
    }
   ],
   "source": [
    "##### 6 задание\n",
    "import math\n",
    "a = str(input('Введите тип фигуры'))\n",
    "if a == 'Круг':\n",
    "    b = float(input('Введите радиус круга'))\n",
    "    print('Площадь круга:')\n",
    "    print(b**2 * math.pi)\n",
    "elif a == 'Треугольник':\n",
    "    b = float(input('Введите длину стороны А'))\n",
    "    c = float(input('Введите длину стороны B'))\n",
    "    d = float(input('Введите длину стороны C'))\n",
    "    if b > c + d or c > b + d or d > c + b:\n",
    "        print('Такого треугольника нет))')\n",
    "    else:\n",
    "        print('Площадь треугольника:')\n",
    "        p = (b + c + d) / 2 #полупериметр треугольника\n",
    "        print(math.sqrt(p * (p - d) * (p - b) * (p - c)))\n",
    "elif a == 'Прямоугольник':\n",
    "    b = float(input('Введите сторону прямоугольника'))\n",
    "    c = float(input('Введите вторую сторону прямоугольника'))\n",
    "    print('Площадь прямоугольника:')\n",
    "    print(b * c)\n",
    "else:\n",
    "    print('С такой фигурой пока не умеем, название фигуры должно быть с заглавной буквы')"
   ]
  }
 ],
 "metadata": {
  "kernelspec": {
   "display_name": "Python 3",
   "language": "python",
   "name": "python3"
  },
  "language_info": {
   "codemirror_mode": {
    "name": "ipython",
    "version": 3
   },
   "file_extension": ".py",
   "mimetype": "text/x-python",
   "name": "python",
   "nbconvert_exporter": "python",
   "pygments_lexer": "ipython3",
   "version": "3.8.5"
  }
 },
 "nbformat": 4,
 "nbformat_minor": 4
}
